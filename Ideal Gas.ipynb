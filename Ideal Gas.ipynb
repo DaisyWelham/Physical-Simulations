{
 "cells": [
  {
   "cell_type": "code",
   "execution_count": 1,
   "id": "d455f76e-7410-424c-9911-034e8abe7321",
   "metadata": {},
   "outputs": [
    {
     "data": {
      "text/html": [
       "<div id=\"glowscript\" class=\"glowscript\"></div>"
      ],
      "text/plain": [
       "<IPython.core.display.HTML object>"
      ]
     },
     "metadata": {},
     "output_type": "display_data"
    },
    {
     "data": {
      "application/javascript": [
       "if (typeof Jupyter !== \"undefined\") { window.__context = { glowscript_container: $(\"#glowscript\").removeAttr(\"id\")};}else{ element.textContent = ' ';}"
      ],
      "text/plain": [
       "<IPython.core.display.Javascript object>"
      ]
     },
     "metadata": {},
     "output_type": "display_data"
    }
   ],
   "source": [
    "import vpython as v\n",
    "import random as r\n",
    "import numpy as np\n",
    "\n",
    "runSimple = False\n",
    "runMany = True"
   ]
  },
  {
   "cell_type": "markdown",
   "id": "7f15c746-3b9d-49fc-aa4c-9a1a2c653a58",
   "metadata": {},
   "source": [
    "## Single molecule in a box"
   ]
  },
  {
   "cell_type": "code",
   "execution_count": 2,
   "id": "06dceaf6-fd1e-4191-9cd7-22b9fa131a3f",
   "metadata": {},
   "outputs": [],
   "source": [
    "if runSimple:\n",
    "    ball = v.sphere()\n",
    "    ball.velocity = v.vector(r.uniform(-0.1, 0.1), r.uniform(-0.1, 0.1), r.uniform(-0.1, 0.1))\n",
    "    for i in range(100000):\n",
    "        v.rate(100)\n",
    "        ball.pos += ball.velocity\n",
    "        if np.fabs(ball.pos.x) >  10:\n",
    "            ball.velocity.x = - ball.velocity.x\n",
    "        if np.fabs(ball.pos.y) >  10:\n",
    "            ball.velocity.y = - ball.velocity.y\n",
    "        if np.fabs(ball.pos.z) >  10:\n",
    "            ball.velocity.z = - ball.velocity.z"
   ]
  },
  {
   "cell_type": "markdown",
   "id": "76dbd2ca-dc01-49c8-ba06-87de923f5b7c",
   "metadata": {},
   "source": [
    "## Many molecules"
   ]
  },
  {
   "cell_type": "code",
   "execution_count": null,
   "id": "ee839911-5936-49ba-b1e2-027d24bada14",
   "metadata": {},
   "outputs": [
    {
     "data": {
      "text/html": [
       "<div id=\"glowscript\" class=\"glowscript\"></div>"
      ],
      "text/plain": [
       "<IPython.core.display.HTML object>"
      ]
     },
     "metadata": {},
     "output_type": "display_data"
    },
    {
     "data": {
      "application/javascript": [
       "if (typeof Jupyter !== \"undefined\") { window.__context = { glowscript_container: $(\"#glowscript\").removeAttr(\"id\")};}else{ element.textContent = ' ';}"
      ],
      "text/plain": [
       "<IPython.core.display.Javascript object>"
      ]
     },
     "metadata": {},
     "output_type": "display_data"
    }
   ],
   "source": [
    "if runMany:\n",
    "    scene = v.canvas()\n",
    "    balls = []\n",
    "    for i in range(25):\n",
    "        ball = v.sphere()\n",
    "        ball.velocity = v.vector(r.uniform(-0.1, 0.1), r.uniform(-0.1, 0.1), r.uniform(-0.1, 0.1))\n",
    "        balls.append(ball)\n",
    "    for i in range(100000):\n",
    "        v.rate(100)\n",
    "        for ball in balls:\n",
    "            ball.pos += ball.velocity\n",
    "            if np.fabs(ball.pos.x) >  10:\n",
    "                ball.velocity.x = - ball.velocity.x\n",
    "            if np.fabs(ball.pos.y) >  10:\n",
    "                ball.velocity.y = - ball.velocity.y\n",
    "            if np.fabs(ball.pos.z) >  10:\n",
    "                ball.velocity.z = - ball.velocity.z"
   ]
  }
 ],
 "metadata": {
  "kernelspec": {
   "display_name": "Python 3 (ipykernel)",
   "language": "python",
   "name": "python3"
  },
  "language_info": {
   "codemirror_mode": {
    "name": "ipython",
    "version": 3
   },
   "file_extension": ".py",
   "mimetype": "text/x-python",
   "name": "python",
   "nbconvert_exporter": "python",
   "pygments_lexer": "ipython3",
   "version": "3.10.16"
  }
 },
 "nbformat": 4,
 "nbformat_minor": 5
}
