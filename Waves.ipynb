{
 "cells": [
  {
   "cell_type": "code",
   "execution_count": 1,
   "id": "200b82ca-1206-4041-84fc-f57be292e0c4",
   "metadata": {},
   "outputs": [
    {
     "data": {
      "text/html": [
       "<div id=\"glowscript\" class=\"glowscript\"></div>"
      ],
      "text/plain": [
       "<IPython.core.display.HTML object>"
      ]
     },
     "metadata": {},
     "output_type": "display_data"
    },
    {
     "data": {
      "application/javascript": [
       "if (typeof Jupyter !== \"undefined\") { window.__context = { glowscript_container: $(\"#glowscript\").removeAttr(\"id\")};}else{ element.textContent = ' ';}"
      ],
      "text/plain": [
       "<IPython.core.display.Javascript object>"
      ]
     },
     "metadata": {},
     "output_type": "display_data"
    }
   ],
   "source": [
    "import vpython as v\n",
    "import random as r\n",
    "import numpy as np\n",
    "\n",
    "run1D = True\n",
    "run2D = False"
   ]
  },
  {
   "cell_type": "markdown",
   "id": "52b77c8d-bd8c-4b31-9244-2ee0de80cbe8",
   "metadata": {},
   "source": [
    "## 1D Vertical Wave"
   ]
  },
  {
   "cell_type": "code",
   "execution_count": 2,
   "id": "9be88775-b710-45ad-9b83-e6bbea1ebba7",
   "metadata": {},
   "outputs": [
    {
     "data": {
      "text/html": [
       "<div id=\"glowscript\" class=\"glowscript\"></div>"
      ],
      "text/plain": [
       "<IPython.core.display.HTML object>"
      ]
     },
     "metadata": {},
     "output_type": "display_data"
    },
    {
     "data": {
      "application/javascript": [
       "if (typeof Jupyter !== \"undefined\") { window.__context = { glowscript_container: $(\"#glowscript\").removeAttr(\"id\")};}else{ element.textContent = ' ';}"
      ],
      "text/plain": [
       "<IPython.core.display.Javascript object>"
      ]
     },
     "metadata": {},
     "output_type": "display_data"
    },
    {
     "name": "stderr",
     "output_type": "stream",
     "text": [
      "\n",
      "KeyboardInterrupt\n",
      "\n"
     ]
    }
   ],
   "source": [
    "if run1D:\n",
    "\n",
    "    amplitudes = []\n",
    "    phases = []\n",
    "    for i in range(1):\n",
    "        amplitude = r.uniform(3, 5)\n",
    "        phase = r.uniform(-np.pi/4, np.pi/4)\n",
    "        amplitudes.append(amplitude)\n",
    "        phases.append(phase)\n",
    "    \n",
    "    scene = v.canvas()\n",
    "    balls = []\n",
    "    for i in range(50):\n",
    "        ball = v.sphere()\n",
    "        ball.pos.x = i\n",
    "        balls.append(ball)\n",
    "    \n",
    "    for i in range(100000):\n",
    "        v.rate(100)\n",
    "        for k in range(len(balls)):\n",
    "            ball = balls[k]\n",
    "            for j in range(len(amplitudes)):\n",
    "                ball.pos.y = amplitudes[j] * np.cos(phases[j] * (k  + i))"
   ]
  },
  {
   "cell_type": "markdown",
   "id": "7275ee0e-82a7-4c1c-8683-49d7a2e5a303",
   "metadata": {},
   "source": [
    "## 2D Vertical Waves"
   ]
  },
  {
   "cell_type": "code",
   "execution_count": null,
   "id": "81cc8dd8-a45b-4e57-b7e9-cceba8fbafe3",
   "metadata": {},
   "outputs": [],
   "source": [
    "if run2D:\n",
    "\n",
    "    amplitudes = []\n",
    "    phases = []\n",
    "    for i in range(1):\n",
    "        amplitude = r.uniform(3, 5)\n",
    "        phase = r.uniform(-np.pi/4, np.pi/4)\n",
    "        amplitudes.append(amplitude)\n",
    "        phases.append(phase)\n",
    "    \n",
    "    scene = v.canvas()\n",
    "    balls = []\n",
    "    for i in range(5):\n",
    "        for j in range(5):\n",
    "            ball = v.sphere()\n",
    "            ball.color = v.vector(0, 0.25, 1)\n",
    "            ball.pos.x = i * 2\n",
    "            ball.pos.z = j * 2\n",
    "            balls.append(ball)\n",
    "    \n",
    "    for i in range(100000):\n",
    "        v.rate(100)\n",
    "        for k in range(len(balls)):\n",
    "            ball = balls[k]\n",
    "            for j in range(len(amplitudes)):\n",
    "                ball.pos.y = amplitudes[j] * np.cos(phases[j] * (k  + i))"
   ]
  },
  {
   "cell_type": "code",
   "execution_count": null,
   "id": "bf0add27-2724-48cd-b04a-96a27090d84b",
   "metadata": {},
   "outputs": [],
   "source": []
  }
 ],
 "metadata": {
  "kernelspec": {
   "display_name": "Python 3 (ipykernel)",
   "language": "python",
   "name": "python3"
  },
  "language_info": {
   "codemirror_mode": {
    "name": "ipython",
    "version": 3
   },
   "file_extension": ".py",
   "mimetype": "text/x-python",
   "name": "python",
   "nbconvert_exporter": "python",
   "pygments_lexer": "ipython3",
   "version": "3.10.16"
  }
 },
 "nbformat": 4,
 "nbformat_minor": 5
}
