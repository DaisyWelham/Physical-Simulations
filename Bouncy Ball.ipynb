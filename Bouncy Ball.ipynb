{
 "cells": [
  {
   "cell_type": "markdown",
   "id": "b0c647ae-cb01-44db-b14a-feebf4175ec9",
   "metadata": {},
   "source": [
    "# Bouncy Ball"
   ]
  },
  {
   "cell_type": "markdown",
   "id": "f5437422-4bce-4a4d-9c79-034f0cc3932d",
   "metadata": {},
   "source": [
    "Simulating a bouncy ball is a fun way to test out any simulation software. The first program tests perfectly elastic bouncing, which in principle will run forever. Next we have inelastic bouncing, where energy is wasted in the form of heat or friction at each bounce, eventually causing the ball to stop."
   ]
  },
  {
   "cell_type": "code",
   "execution_count": 1,
   "id": "99f3f12c-0d41-42ef-aef5-6be1dc30377e",
   "metadata": {},
   "outputs": [
    {
     "data": {
      "text/html": [
       "<div id=\"glowscript\" class=\"glowscript\"></div>"
      ],
      "text/plain": [
       "<IPython.core.display.HTML object>"
      ]
     },
     "metadata": {},
     "output_type": "display_data"
    },
    {
     "data": {
      "application/javascript": [
       "if (typeof Jupyter !== \"undefined\") { window.__context = { glowscript_container: $(\"#glowscript\").removeAttr(\"id\")};}else{ element.textContent = ' ';}"
      ],
      "text/plain": [
       "<IPython.core.display.Javascript object>"
      ]
     },
     "metadata": {},
     "output_type": "display_data"
    }
   ],
   "source": [
    "#Imports\n",
    "import vpython as v\n",
    "\n",
    "#Simulation control\n",
    "timeRate = 10    #How fast the simulation runs\n",
    "timestep = 1/100 #How much simulated time (in seconds) passes for one vpython iteration\n",
    "simulationLength = 100 #Number of iterations of simulation to run\n",
    "\n",
    "#Physical constants\n",
    "g = 9.81 #Gravitational constant\n",
    "e = 0.95 #Elasticity constant. 1 = perfectly elastic, 0 = no elasticity.\n",
    "\n",
    "#Which code to run\n",
    "runPerfect = False\n",
    "runInelastic = False"
   ]
  },
  {
   "cell_type": "markdown",
   "id": "895b4338-7124-4d2c-955a-5839f808ec2d",
   "metadata": {},
   "source": [
    "## Perfectly Elastic Bouncing."
   ]
  },
  {
   "cell_type": "code",
   "execution_count": 2,
   "id": "1a188186-c405-4b52-864d-c864ba6a9cd1",
   "metadata": {},
   "outputs": [],
   "source": [
    "if runPerfect:\n",
    "    scene = v.canvas()\n",
    "    groundWidth = 1\n",
    "    ground = v.box(size = v.vector(10, groundWidth, 10), color = v.vector(0, 1, 0))\n",
    "    ball = v.sphere(pos = v.vector(0, 5, 0), color = v.vector(1, 0, 0))\n",
    "    ball.velocity = v.vector(0, 0, 0)\n",
    "    for i in range(simulationLength):\n",
    "        v.rate(timeRate)\n",
    "        if ball.pos.y - groundWidth/2 <= ball.radius:\n",
    "            ball.velocity.y = - ball.velocity.y\n",
    "        else:\n",
    "            ball.velocity.y -= g * timestep\n",
    "        ball.pos.y += ball.velocity.y"
   ]
  },
  {
   "cell_type": "markdown",
   "id": "77bf748c-f473-4a08-a654-3c119e92db02",
   "metadata": {},
   "source": [
    "## Inelastic Bouncing"
   ]
  },
  {
   "cell_type": "code",
   "execution_count": 3,
   "id": "787ede9b-2156-4496-9fcb-37d9707f6883",
   "metadata": {},
   "outputs": [],
   "source": [
    "if runInelastic:\n",
    "    scene = v.canvas()\n",
    "    groundWidth = 1\n",
    "    ground = v.box(size = v.vector(10, groundWidth, 10), color = v.vector(0, 1, 0))\n",
    "    ball = v.sphere(pos = v.vector(0, 5, 0), color = v.vector(1, 0, 0))\n",
    "    ball.velocity = v.vector(0, 0, 0)\n",
    "    for i in range(simulationLength):\n",
    "        v.rate(timeRate)\n",
    "        if ball.pos.y - groundWidth/2 <= ball.radius:\n",
    "            ball.velocity.y = - e * ball.velocity.y\n",
    "        else:\n",
    "            ball.velocity.y -= g * timestep\n",
    "        ball.pos.y += ball.velocity.y"
   ]
  },
  {
   "cell_type": "code",
   "execution_count": null,
   "id": "d030c357-9f0c-437e-a86e-2c130361ad20",
   "metadata": {},
   "outputs": [],
   "source": []
  }
 ],
 "metadata": {
  "kernelspec": {
   "display_name": "Python 3 (ipykernel)",
   "language": "python",
   "name": "python3"
  },
  "language_info": {
   "codemirror_mode": {
    "name": "ipython",
    "version": 3
   },
   "file_extension": ".py",
   "mimetype": "text/x-python",
   "name": "python",
   "nbconvert_exporter": "python",
   "pygments_lexer": "ipython3",
   "version": "3.10.16"
  }
 },
 "nbformat": 4,
 "nbformat_minor": 5
}
