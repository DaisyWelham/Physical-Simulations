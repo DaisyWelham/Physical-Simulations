{
 "cells": [
  {
   "cell_type": "markdown",
   "id": "b0c647ae-cb01-44db-b14a-feebf4175ec9",
   "metadata": {},
   "source": [
    "# Solar System"
   ]
  },
  {
   "cell_type": "markdown",
   "id": "f5437422-4bce-4a4d-9c79-034f0cc3932d",
   "metadata": {},
   "source": [
    "Playing around with solar systems is fun, you can see what happens if you change fundamental constants or the masses, distances etc of the planets."
   ]
  },
  {
   "cell_type": "code",
   "execution_count": 1,
   "id": "99f3f12c-0d41-42ef-aef5-6be1dc30377e",
   "metadata": {},
   "outputs": [
    {
     "data": {
      "text/html": [
       "<div id=\"glowscript\" class=\"glowscript\"></div>"
      ],
      "text/plain": [
       "<IPython.core.display.HTML object>"
      ]
     },
     "metadata": {},
     "output_type": "display_data"
    },
    {
     "data": {
      "application/javascript": [
       "if (typeof Jupyter !== \"undefined\") { window.__context = { glowscript_container: $(\"#glowscript\").removeAttr(\"id\")};}else{ element.textContent = ' ';}"
      ],
      "text/plain": [
       "<IPython.core.display.Javascript object>"
      ]
     },
     "metadata": {},
     "output_type": "display_data"
    }
   ],
   "source": [
    "#Imports\n",
    "import vpython as v\n",
    "import numpy as np\n",
    "\n",
    "#Simulation control\n",
    "timeRate = 10  #How fast the simulation runs\n",
    "timestep = 7 * 24 * 3600 #How many simulated seconds are in 1 timestep\n",
    "simulationLength = 10 ** 8 #Number of iterations of simulation to run\n",
    "\n",
    "#Physical constants\n",
    "G = 6.67 * 10 ** -11 #Gravitational constant, big G.\n",
    "\n",
    "#Which code to run\n",
    "runSimple = False\n",
    "runRocky = True"
   ]
  },
  {
   "cell_type": "markdown",
   "id": "895b4338-7124-4d2c-955a-5839f808ec2d",
   "metadata": {},
   "source": [
    "## Simple Solar System"
   ]
  },
  {
   "cell_type": "markdown",
   "id": "626594bc-6509-46a6-9bc3-989effe0a053",
   "metadata": {},
   "source": [
    "For a simple solar system we have only a star and a planet. We can change the mass of each and the orbital radius to see how that affects things. Planet sizes are not to scale."
   ]
  },
  {
   "cell_type": "code",
   "execution_count": 2,
   "id": "1a188186-c405-4b52-864d-c864ba6a9cd1",
   "metadata": {},
   "outputs": [
    {
     "data": {
      "text/html": [
       "<div id=\"glowscript\" class=\"glowscript\"></div>"
      ],
      "text/plain": [
       "<IPython.core.display.HTML object>"
      ]
     },
     "metadata": {},
     "output_type": "display_data"
    },
    {
     "data": {
      "application/javascript": [
       "if (typeof Jupyter !== \"undefined\") { window.__context = { glowscript_container: $(\"#glowscript\").removeAttr(\"id\")};}else{ element.textContent = ' ';}"
      ],
      "text/plain": [
       "<IPython.core.display.Javascript object>"
      ]
     },
     "metadata": {},
     "output_type": "display_data"
    }
   ],
   "source": [
    "massStar = 1.989 * 10 ** 30\n",
    "massPlanet = 5.9722 * 10 ** 24\n",
    "initialVelocity = 29780\n",
    "initialRadius = 1.496 * 10 ** 11\n",
    "radiusStar = 50\n",
    "radiusPlanet = 10\n",
    "\n",
    "scene = v.canvas()\n",
    "\n",
    "star = v.sphere()\n",
    "star.radius = radiusStar\n",
    "star.velocity = v.vector(0, 0, 0)\n",
    "star.realPos = v.vector(0, 0, 0)\n",
    "star.color = v.vector(1, 0.5, 0)\n",
    "\n",
    "planet = v.sphere()\n",
    "planet.radius = radiusPlanet\n",
    "planet.velocity = v.vector(initialVelocity, 0, 0)\n",
    "planet.realPos = v.vector(0, 0, initialRadius)\n",
    "planet.color = v.vector(0, 1, 0.75)\n",
    "\n",
    "if runSimple:\n",
    "    scene = v.canvas()\n",
    "    for i in range(simulationLength):\n",
    "        v.rate(timeRate)\n",
    "        R = star.realPos - planet.realPos\n",
    "        distance = v.mag(R)\n",
    "        rDirection = R / distance \n",
    "        gravity = G * massStar * massPlanet / distance ** 2\n",
    "        gravityVector = gravity * rDirection\n",
    "        planet.velocity += (gravityVector / massPlanet) * timestep\n",
    "        star.velocity -= (gravityVector / massStar) * timestep\n",
    "        planet.realPos += planet.velocity * timestep\n",
    "        star.realPos += star.velocity * timestep\n",
    "        planet.pos = planet.realPos * 10 ** -9\n",
    "        star.pos = star.realPos * 10 ** -9"
   ]
  },
  {
   "cell_type": "markdown",
   "id": "a8876b31-5cb5-4ca6-8e1a-347dbeb171e5",
   "metadata": {},
   "source": [
    "## Rocky"
   ]
  },
  {
   "cell_type": "markdown",
   "id": "ba3d4a8d-e64c-4a23-80e4-57adeaee80f4",
   "metadata": {},
   "source": [
    "Runs a simulation of the sun and the four rocky planets."
   ]
  },
  {
   "cell_type": "code",
   "execution_count": null,
   "id": "c3616cd8-2944-44a4-aede-956c96b6c0ae",
   "metadata": {},
   "outputs": [
    {
     "data": {
      "text/html": [
       "<div id=\"glowscript\" class=\"glowscript\"></div>"
      ],
      "text/plain": [
       "<IPython.core.display.HTML object>"
      ]
     },
     "metadata": {},
     "output_type": "display_data"
    },
    {
     "data": {
      "application/javascript": [
       "if (typeof Jupyter !== \"undefined\") { window.__context = { glowscript_container: $(\"#glowscript\").removeAttr(\"id\")};}else{ element.textContent = ' ';}"
      ],
      "text/plain": [
       "<IPython.core.display.Javascript object>"
      ]
     },
     "metadata": {},
     "output_type": "display_data"
    },
    {
     "data": {
      "text/html": [
       "<div id=\"glowscript\" class=\"glowscript\"></div>"
      ],
      "text/plain": [
       "<IPython.core.display.HTML object>"
      ]
     },
     "metadata": {},
     "output_type": "display_data"
    },
    {
     "data": {
      "application/javascript": [
       "if (typeof Jupyter !== \"undefined\") { window.__context = { glowscript_container: $(\"#glowscript\").removeAttr(\"id\")};}else{ element.textContent = ' ';}"
      ],
      "text/plain": [
       "<IPython.core.display.Javascript object>"
      ]
     },
     "metadata": {},
     "output_type": "display_data"
    }
   ],
   "source": [
    "massStar = 1.989 * 10 ** 30\n",
    "massPlanet = 5.9722 * 10 ** 24\n",
    "initialVelocity = 29780\n",
    "initialRadius = 1.496 * 10 ** 11\n",
    "radiusStar = 50\n",
    "\n",
    "scene = v.canvas()\n",
    "\n",
    "star = v.sphere()\n",
    "star.radius = radiusStar\n",
    "star.velocity = v.vector(0, 0, 0)\n",
    "star.realPos = v.vector(0, 0, 0)\n",
    "star.color = v.vector(1, 0.5, 0)\n",
    "\n",
    "#Rocky planets are 1:100 size. Gas giants are 1:500\n",
    "planetRadii = [24 / 5, 61 / 5, 64 / 5, 34 / 5, 140 / 5, 116 / 5, 51 / 5, 49 / 5]\n",
    "\n",
    "orbitalRadii = [5.791 * 10 ** 10,\n",
    " 1.082 * 10 ** 11,\n",
    " 1.496 * 10 ** 11,\n",
    " 2.279 * 10 ** 11]#,\n",
    " #7.785 * 10 ** 11,\n",
    " #1.433 * 10 ** 12,\n",
    " #2.877 * 10 ** 12,\n",
    " #4.503 * 10 ** 12]\n",
    "\n",
    "velocities = [47400, 35000, 29780, 24100, 13100, 9700, 6800, 5400]\n",
    "\n",
    "colors = [\n",
    "    v.vector(0.7, 0.6, 0.5),   # Mercury - grayish\n",
    "    v.vector(0.9, 0.7, 0.4),   # Venus - pale yellow\n",
    "    v.vector(0.0, 0.5, 1.0),   # Earth - blue\n",
    "    v.vector(1.0, 0.3, 0.3),   # Mars - red\n",
    "    v.vector(0.9, 0.7, 0.3),   # Jupiter - beige with orange tones\n",
    "    v.vector(0.9, 0.8, 0.6),   # Saturn - pale yellow/gold\n",
    "    v.vector(0.5, 0.8, 0.9),   # Uranus - cyan\n",
    "    v.vector(0.2, 0.4, 0.8)    # Neptune - deep blue\n",
    "]\n",
    "\n",
    "\n",
    "masses = [3.30 * 10 ** 23,   # Mercury\n",
    " 4.87 * 10 ** 24,   # Venus\n",
    " 5.97 * 10 ** 24,   # Earth\n",
    " 6.42 * 10 ** 23,   # Mars\n",
    " 1.90 * 10 ** 27,   # Jupiter\n",
    " 5.68 * 10 ** 26,   # Saturn\n",
    " 8.68 * 10 ** 25,   # Uranus\n",
    " 1.02 * 10 ** 26]   # Neptune\n",
    "\n",
    "planets = []\n",
    "for i in range(len(orbitalRadii)):\n",
    "    planet = v.sphere()\n",
    "    planet.radius = planetRadii[i]\n",
    "    planet.velocity = v.vector(velocities[i], 0, 0)\n",
    "    planet.realPos = v.vector(0, 0, orbitalRadii[i])\n",
    "    planet.pos = planet.realPos * 10 ** -9\n",
    "    planet.color = colors[i]\n",
    "    planet.mass = masses[i]\n",
    "    planets.append(planet)\n",
    "\n",
    "if runRocky:\n",
    "    scene = v.canvas()\n",
    "    for i in range(simulationLength):\n",
    "        v.rate(timeRate)\n",
    "        for planet in planets:\n",
    "            R = star.realPos - planet.realPos\n",
    "            distance = v.mag(R)\n",
    "            rDirection = R / distance \n",
    "            gravity = G * massStar * planet.mass / distance ** 2\n",
    "            gravityVector = gravity * rDirection\n",
    "            planet.velocity += (gravityVector / planet.mass) * timestep\n",
    "            star.velocity -= (gravityVector / massStar) * timestep\n",
    "            planet.realPos += planet.velocity * timestep\n",
    "            star.realPos += star.velocity * timestep\n",
    "            planet.pos = v.vector(\n",
    "                planet.realPos.x * 1 * 10 ** -9,\n",
    "                planet.realPos.y * 1 * 10 ** -9,\n",
    "                planet.realPos.z * 1 * 10 ** -9\n",
    "            )\n",
    "            star.pos = star.realPos * 10 ** -9"
   ]
  },
  {
   "cell_type": "code",
   "execution_count": null,
   "id": "33ee379f-47b1-4583-b09c-46af53f10ab5",
   "metadata": {},
   "outputs": [],
   "source": []
  }
 ],
 "metadata": {
  "kernelspec": {
   "display_name": "Python 3 (ipykernel)",
   "language": "python",
   "name": "python3"
  },
  "language_info": {
   "codemirror_mode": {
    "name": "ipython",
    "version": 3
   },
   "file_extension": ".py",
   "mimetype": "text/x-python",
   "name": "python",
   "nbconvert_exporter": "python",
   "pygments_lexer": "ipython3",
   "version": "3.10.16"
  }
 },
 "nbformat": 4,
 "nbformat_minor": 5
}
